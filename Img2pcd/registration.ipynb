{
 "cells": [
  {
   "cell_type": "markdown",
   "metadata": {},
   "source": [
    "# Global Registration using Fast Point Feature Histograms (FPFH)"
   ]
  },
  {
   "cell_type": "code",
   "execution_count": 37,
   "metadata": {},
   "outputs": [],
   "source": [
    "import numpy as np\n",
    "import matplotlib.pyplot as plt\n",
    "import open3d as o3d\n",
    "import copy"
   ]
  },
  {
   "cell_type": "code",
   "execution_count": 39,
   "metadata": {},
   "outputs": [],
   "source": [
    "# source = o3d.io.read_point_cloud(\"./Data/output/bottle/pcd/bottle_left.ply\")\n",
    "# target = o3d.io.read_point_cloud(\"./Data/output/bottle/pcd/bottle_right.ply\")\n",
    "source = o3d.io.read_point_cloud(\"./Data/output/house/pcd/IMG_2630.ply\")\n",
    "target = o3d.io.read_point_cloud(\"./Data/output/house/pcd/IMG_2631.ply\")"
   ]
  },
  {
   "cell_type": "markdown",
   "metadata": {},
   "source": [
    "Function to display results"
   ]
  },
  {
   "cell_type": "code",
   "execution_count": 40,
   "metadata": {},
   "outputs": [],
   "source": [
    "def draw_registration_result(source, target, transformation, diff_color=True):\n",
    "    source_temp = copy.deepcopy(source)\n",
    "    target_temp = copy.deepcopy(target)\n",
    "    if diff_color:\n",
    "        source_temp.paint_uniform_color([1, 0.706, 0])\n",
    "        target_temp.paint_uniform_color([0, 0.651, 0.929])\n",
    "    source_temp.transform(transformation)\n",
    "    o3d.visualization.draw_geometries([source_temp, target_temp])"
   ]
  },
  {
   "cell_type": "markdown",
   "metadata": {},
   "source": [
    "To reduce the computational impact we downsample the point clouds and use a voxel grid to reduce the number of points."
   ]
  },
  {
   "cell_type": "code",
   "execution_count": 41,
   "metadata": {},
   "outputs": [],
   "source": [
    "def preprocess_point_cloud(pcd, voxel_size):\n",
    "    print(\":: Downsample with a voxel size %.3f.\" % voxel_size)\n",
    "    pcd_down = pcd.voxel_down_sample(voxel_size)\n",
    "\n",
    "    radius_normal = voxel_size * 2\n",
    "    print(\":: Estimate normal with search radius %.3f.\" % radius_normal) \n",
    "    #Noramls are used to calculate the FPFH features\n",
    "    pcd_down.estimate_normals(o3d.geometry.KDTreeSearchParamHybrid(radius=radius_normal, max_nn=30))\n",
    "\n",
    "    radius_feature = voxel_size * 5\n",
    "    print(\":: Compute FPFH feature with search radius %.3f.\" % radius_feature)\n",
    "    pcd_fpfh = o3d.pipelines.registration.compute_fpfh_feature(\n",
    "        pcd_down,\n",
    "        o3d.geometry.KDTreeSearchParamHybrid(radius=radius_feature, max_nn=100))\n",
    "    return pcd_down, pcd_fpfh"
   ]
  },
  {
   "cell_type": "code",
   "execution_count": 42,
   "metadata": {},
   "outputs": [
    {
     "name": "stdout",
     "output_type": "stream",
     "text": [
      "source points: 291548\n",
      "target points: 291301\n",
      ":: Downsample with a voxel size 0.000.\n",
      ":: Estimate normal with search radius 0.000.\n",
      ":: Compute FPFH feature with search radius 0.000.\n",
      ":: Downsample with a voxel size 0.000.\n",
      ":: Estimate normal with search radius 0.000.\n",
      ":: Compute FPFH feature with search radius 0.000.\n",
      "source_down points: 11293\n",
      "target_down points: 10092\n"
     ]
    }
   ],
   "source": [
    "voxel_size=0.00001\n",
    "# random transformation matrix\n",
    "trans_init = np.asarray([[0.0, 0.0, 1.0, 0.0], [1.0, 0.0, 0.0, 0.0],\n",
    "                            [0.0, 1.0, 0.0, 0.0], [0.0, 0.0, 0.0, 1.0]])\n",
    "source.transform(trans_init)\n",
    "draw_registration_result(source, target, np.identity(4))\n",
    "print(\"source points:\", len(source.points))\n",
    "print(\"target points:\", len(target.points))\n",
    "source_down, source_fpfh = preprocess_point_cloud(source, voxel_size)\n",
    "\n",
    "target_down, target_fpfh = preprocess_point_cloud(target, voxel_size)\n",
    "print(\"source_down points:\", len(source_down.points))\n",
    "print(\"target_down points:\", len(target_down.points))"
   ]
  },
  {
   "cell_type": "code",
   "execution_count": 43,
   "metadata": {},
   "outputs": [],
   "source": [
    "# o3d.visualization.draw_geometries([source_down])"
   ]
  },
  {
   "cell_type": "code",
   "execution_count": 44,
   "metadata": {},
   "outputs": [],
   "source": [
    "def execute_global_registration(source_down, target_down, source_fpfh,\n",
    "                                target_fpfh, voxel_size):\n",
    "    distance_threshold = voxel_size * 1.5\n",
    "    print(\":: RANSAC registration on downsampled point clouds.\")\n",
    "    print(\"   Since the downsampling voxel size is %.3f,\" % voxel_size)\n",
    "    print(\"   we use a liberal distance threshold %.3f.\" % distance_threshold)\n",
    "    result = o3d.pipelines.registration.registration_ransac_based_on_feature_matching(\n",
    "        source_down, target_down, \n",
    "        source_fpfh, target_fpfh, \n",
    "        True,\n",
    "        distance_threshold,\n",
    "        o3d.pipelines.registration.TransformationEstimationPointToPoint(False),\n",
    "        ransac_n = 3, \n",
    "        checkers = [ #Pruning, points that pass the pruning will be subject to RANSAC\n",
    "            #Checking if the edeges of source and target are about 0.9 of each other\n",
    "            o3d.pipelines.registration.CorrespondenceCheckerBasedOnEdgeLength(0.9), \n",
    "            #Checking if the distance between the points is less than the threshold\n",
    "            o3d.pipelines.registration.CorrespondenceCheckerBasedOnDistance(distance_threshold) \n",
    "        ], \n",
    "        criteria = o3d.pipelines.registration.RANSACConvergenceCriteria(100000, 0.999)) #max_iter, confidence\n",
    "    return result.transformation"
   ]
  },
  {
   "cell_type": "code",
   "execution_count": 45,
   "metadata": {},
   "outputs": [
    {
     "name": "stdout",
     "output_type": "stream",
     "text": [
      ":: RANSAC registration on downsampled point clouds.\n",
      "   Since the downsampling voxel size is 0.000,\n",
      "   we use a liberal distance threshold 0.000.\n",
      "[[ 1.03418439e-01  9.90843551e-01 -8.67967948e-02  3.51935160e-06]\n",
      " [ 6.33477340e-02  8.05260323e-02  9.94737464e-01 -3.95788075e-05]\n",
      " [ 9.92618603e-01 -1.08372576e-01 -5.44398172e-02 -4.27019393e-05]\n",
      " [ 0.00000000e+00  0.00000000e+00  0.00000000e+00  1.00000000e+00]]\n"
     ]
    }
   ],
   "source": [
    "result_ransac = execute_global_registration(source_down, target_down,\n",
    "                                            source_fpfh, target_fpfh,\n",
    "                                            voxel_size)\n",
    "print(result_ransac)"
   ]
  },
  {
   "cell_type": "markdown",
   "metadata": {},
   "source": [
    "Draw results with color"
   ]
  },
  {
   "cell_type": "code",
   "execution_count": 47,
   "metadata": {},
   "outputs": [],
   "source": [
    "draw_registration_result(source_down, target_down, result_ransac, diff_color=False)"
   ]
  }
 ],
 "metadata": {
  "kernelspec": {
   "display_name": "Python 3",
   "language": "python",
   "name": "python3"
  },
  "language_info": {
   "codemirror_mode": {
    "name": "ipython",
    "version": 3
   },
   "file_extension": ".py",
   "mimetype": "text/x-python",
   "name": "python",
   "nbconvert_exporter": "python",
   "pygments_lexer": "ipython3",
   "version": "3.11.9"
  }
 },
 "nbformat": 4,
 "nbformat_minor": 2
}
