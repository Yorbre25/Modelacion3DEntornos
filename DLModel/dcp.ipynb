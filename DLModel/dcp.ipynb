{
 "cells": [
  {
   "cell_type": "markdown",
   "metadata": {},
   "source": [
    "Datos se colocan en Data/modelnet40_ply_hdf5_2048: https://huggingface.co/datasets/Msun/modelnet40/resolve/d5dc795541800feeb7a4b3bd3142729a0d2adf7a/modelnet40_ply_hdf5_2048.zip"
   ]
  },
  {
   "cell_type": "code",
   "execution_count": 1,
   "metadata": {},
   "outputs": [
    {
     "name": "stdout",
     "output_type": "stream",
     "text": [
      "Jupyter environment detected. Enabling Open3D WebVisualizer.\n",
      "[Open3D INFO] WebRTC GUI backend enabled.\n",
      "[Open3D INFO] WebRTCWindowSystem: HTTP handshake server disabled.\n"
     ]
    }
   ],
   "source": [
    "import torch\n",
    "import learning3d\n",
    "import open3d as o3d\n",
    "import numpy as np\n",
    "from tqdm import tqdm"
   ]
  },
  {
   "cell_type": "markdown",
   "metadata": {},
   "source": [
    "Agnostig device"
   ]
  },
  {
   "cell_type": "code",
   "execution_count": 3,
   "metadata": {},
   "outputs": [
    {
     "name": "stdout",
     "output_type": "stream",
     "text": [
      "cpu\n"
     ]
    }
   ],
   "source": [
    "if not torch.cuda.is_available():\n",
    "    device = 'cpu'\n",
    "print(device)\n",
    "device = torch.device(device)"
   ]
  },
  {
   "cell_type": "code",
   "execution_count": 4,
   "metadata": {},
   "outputs": [],
   "source": [
    "import os\n",
    "root_dir = \"./\"\n",
    "DATA_DIR = os.path.normpath(os.path.join(root_dir, 'data'))\n",
    "if not os.path.exists(DATA_DIR):\n",
    "    os.mkdir(DATA_DIR)\n",
    "if not os.path.exists(os.path.join(DATA_DIR, 'modelnet40_ply_hdf5_2048')):\n",
    "    www = 'https://huggingface.co/datasets/Msun/modelnet40/resolve/d5dc795541800feeb7a4b3bd3142729a0d2adf7a/modelnet40_ply_hdf5_2048.zip'\n",
    "    zipfile = os.path.basename(www)\n",
    "    os.system('wget --no-check-certificate %s; unzip %s' % (www, zipfile))\n",
    "    os.system('mv %s %s' % (zipfile[:-4], DATA_DIR))\n",
    "    os.system('rm %s' % (zipfile))"
   ]
  },
  {
   "cell_type": "code",
   "execution_count": 5,
   "metadata": {},
   "outputs": [],
   "source": [
    "torch.backends.cudnn.deterministic = True\n",
    "from torch.utils.data import DataLoader\n",
    "from learning3d.models import DGCNN, DCP\n",
    "from learning3d.data_utils import RegistrationData, ModelNet40Data\n"
   ]
  },
  {
   "cell_type": "markdown",
   "metadata": {},
   "source": [
    "## Ejemplo de Uso"
   ]
  },
  {
   "cell_type": "code",
   "execution_count": 6,
   "metadata": {},
   "outputs": [],
   "source": [
    "batch_size = 5 #32\n",
    "workers = 4 #number of data loading workers"
   ]
  },
  {
   "cell_type": "code",
   "execution_count": 7,
   "metadata": {},
   "outputs": [],
   "source": [
    "trainset = RegistrationData('DCP', ModelNet40Data(train=True))\n",
    "testset = RegistrationData('DCP', ModelNet40Data(train=False))\n",
    "train_loader = DataLoader(trainset, batch_size=batch_size, shuffle=True, drop_last=True, num_workers=workers)\n",
    "test_loader = DataLoader(testset, batch_size=batch_size, shuffle=False, drop_last=False, num_workers=workers)"
   ]
  },
  {
   "cell_type": "code",
   "execution_count": 8,
   "metadata": {},
   "outputs": [],
   "source": [
    "emb_dims = 512 #dim. of the feature vector (default: 512)"
   ]
  },
  {
   "cell_type": "code",
   "execution_count": 9,
   "metadata": {},
   "outputs": [],
   "source": [
    "dgcnn = DGCNN(emb_dims=emb_dims)\n",
    "model = DCP(feature_model=dgcnn, cycle=True)\n",
    "model = model.to(device)"
   ]
  },
  {
   "cell_type": "code",
   "execution_count": 10,
   "metadata": {},
   "outputs": [],
   "source": [
    "pretrained = \"./PreTrainedModels/DCP/best_model.t7\""
   ]
  },
  {
   "cell_type": "code",
   "execution_count": 11,
   "metadata": {},
   "outputs": [
    {
     "data": {
      "text/plain": [
       "_IncompatibleKeys(missing_keys=[], unexpected_keys=['pointer.model.encoder.layers.0.sublayer.0.norm.norm.weight', 'pointer.model.encoder.layers.0.sublayer.0.norm.norm.bias', 'pointer.model.encoder.layers.0.sublayer.0.norm.norm.running_mean', 'pointer.model.encoder.layers.0.sublayer.0.norm.norm.running_var', 'pointer.model.encoder.layers.0.sublayer.0.norm.norm.num_batches_tracked', 'pointer.model.encoder.layers.0.sublayer.1.norm.norm.weight', 'pointer.model.encoder.layers.0.sublayer.1.norm.norm.bias', 'pointer.model.encoder.layers.0.sublayer.1.norm.norm.running_mean', 'pointer.model.encoder.layers.0.sublayer.1.norm.norm.running_var', 'pointer.model.encoder.layers.0.sublayer.1.norm.norm.num_batches_tracked', 'pointer.model.encoder.norm.norm.weight', 'pointer.model.encoder.norm.norm.bias', 'pointer.model.encoder.norm.norm.running_mean', 'pointer.model.encoder.norm.norm.running_var', 'pointer.model.encoder.norm.norm.num_batches_tracked', 'pointer.model.decoder.layers.0.sublayer.0.norm.norm.weight', 'pointer.model.decoder.layers.0.sublayer.0.norm.norm.bias', 'pointer.model.decoder.layers.0.sublayer.0.norm.norm.running_mean', 'pointer.model.decoder.layers.0.sublayer.0.norm.norm.running_var', 'pointer.model.decoder.layers.0.sublayer.0.norm.norm.num_batches_tracked', 'pointer.model.decoder.layers.0.sublayer.1.norm.norm.weight', 'pointer.model.decoder.layers.0.sublayer.1.norm.norm.bias', 'pointer.model.decoder.layers.0.sublayer.1.norm.norm.running_mean', 'pointer.model.decoder.layers.0.sublayer.1.norm.norm.running_var', 'pointer.model.decoder.layers.0.sublayer.1.norm.norm.num_batches_tracked', 'pointer.model.decoder.layers.0.sublayer.2.norm.norm.weight', 'pointer.model.decoder.layers.0.sublayer.2.norm.norm.bias', 'pointer.model.decoder.layers.0.sublayer.2.norm.norm.running_mean', 'pointer.model.decoder.layers.0.sublayer.2.norm.norm.running_var', 'pointer.model.decoder.layers.0.sublayer.2.norm.norm.num_batches_tracked', 'pointer.model.decoder.norm.norm.weight', 'pointer.model.decoder.norm.norm.bias', 'pointer.model.decoder.norm.norm.running_mean', 'pointer.model.decoder.norm.norm.running_var', 'pointer.model.decoder.norm.norm.num_batches_tracked'])"
      ]
     },
     "execution_count": 11,
     "metadata": {},
     "output_type": "execute_result"
    }
   ],
   "source": [
    "temp = torch.load(pretrained, map_location=device)\n",
    "model.load_state_dict(temp, strict=False)"
   ]
  },
  {
   "cell_type": "markdown",
   "metadata": {},
   "source": [
    "### Test\n",
    "\n",
    "igt: intial ground truth. Used to calculate the accuracy of the model.\n",
    "\n",
    "- R_ab: Rotation from A to B\n",
    "- R_ba: Rotation from B to A\n",
    "- translation ab: translation from A to B\n",
    "- translation ba: translation from B to A"
   ]
  },
  {
   "cell_type": "code",
   "execution_count": 13,
   "metadata": {},
   "outputs": [],
   "source": [
    "def get_transformations(igt):\n",
    "\tR_ba = igt[:, 0:3, 0:3]                             # Ps = R_ba * Pt\n",
    "\ttranslation_ba = igt[:, 0:3, 3].unsqueeze(2)        # Ps = Pt + t_ba\n",
    "\tR_ab = R_ba.permute(0, 2, 1)                        # Pt = R_ab * Ps\n",
    "\ttranslation_ab = -torch.bmm(R_ab, translation_ba)   # Pt = Ps + t_ab\n",
    "\treturn R_ab, translation_ab, R_ba, translation_ba\n",
    "\n",
    "def display_open3d(template, source, transformed_source=None):\n",
    "\ttemplate_ = o3d.geometry.PointCloud()\n",
    "\tsource_ = o3d.geometry.PointCloud()\n",
    "\ttemplate_.points = o3d.utility.Vector3dVector(template)\n",
    "\tsource_.points = o3d.utility.Vector3dVector(source + np.array([0,0,0]))\n",
    "\ttemplate_.paint_uniform_color([1, 0, 0])\n",
    "\tsource_.paint_uniform_color([0, 1, 0])\n",
    "\tif transformed_source is not None:\n",
    "\t\ttransformed_source_ = o3d.geometry.PointCloud()\n",
    "\t\ttransformed_source_.points = o3d.utility.Vector3dVector(transformed_source)\n",
    "\t\ttransformed_source_.paint_uniform_color([0, 0, 1])\n",
    "\t\to3d.visualization.draw_geometries([template_, source_, transformed_source_])\n",
    "\telse:\n",
    "\t\to3d.visualization.draw_geometries([template_, source_, transformed_source_])\n",
    "\n",
    "def test_one_epoch(device, model, test_loader):\n",
    "\tmodel.eval()\n",
    "\ttest_loss = 0.0\n",
    "\tpred  = 0.0\n",
    "\tcount = 0\n",
    "\tfor i, data in enumerate(tqdm(test_loader)):\n",
    "\t\ttemplate, source, igt = data\n",
    "\t\ttransformations = get_transformations(igt)\n",
    "\t\ttransformations = [t.to(device) for t in transformations]\n",
    "\t\tR_ab, translation_ab, R_ba, translation_ba = transformations\n",
    "\n",
    "\t\ttemplate = template.to(device)\n",
    "\t\tsource = source.to(device)\n",
    "\t\tigt = igt.to(device)\n",
    "\t\t# print(type(template), type(source), type(igt))\n",
    "\t\tprint(template.shape, source.shape, igt.shape)\n",
    "\t\toutput = model(template, source)\n",
    "\t\tdisplay_open3d(template.detach().cpu().numpy()[0], source.detach().cpu().numpy()[0], output['transformed_source'].detach().cpu().numpy()[0])\n",
    "\n",
    "\t\tidentity = torch.eye(3, device=device).unsqueeze(0).repeat(template.shape[0], 1, 1)\n",
    "\t\tloss_val = torch.nn.functional.mse_loss(torch.matmul(output['est_R'].transpose(2, 1), R_ab), identity) \\\n",
    "\t\t\t   + torch.nn.functional.mse_loss(output['est_t'], translation_ab[:,:,0])\n",
    "\n",
    "\t\tcycle_loss = torch.nn.functional.mse_loss(torch.matmul(output['est_R_'].transpose(2, 1), R_ba), identity) \\\n",
    "\t\t\t   + torch.nn.functional.mse_loss(output['est_t_'], translation_ba[:,:,0])\n",
    "\t\tloss_val = loss_val + cycle_loss * 0.1\n",
    "\n",
    "\t\ttest_loss += loss_val.item()\n",
    "\t\tcount += 1\n",
    "\n",
    "\ttest_loss = float(test_loss)/count\n",
    "\treturn test_loss"
   ]
  },
  {
   "cell_type": "code",
   "execution_count": 15,
   "metadata": {},
   "outputs": [],
   "source": [
    "# result =  test_one_epoch(device, model, test_loader)"
   ]
  },
  {
   "cell_type": "code",
   "execution_count": 228,
   "metadata": {},
   "outputs": [],
   "source": [
    "# result"
   ]
  },
  {
   "cell_type": "markdown",
   "metadata": {},
   "source": [
    "## Con datos propios"
   ]
  },
  {
   "cell_type": "code",
   "execution_count": 16,
   "metadata": {},
   "outputs": [],
   "source": [
    "from torch.utils.data import Dataset, DataLoader"
   ]
  },
  {
   "cell_type": "code",
   "execution_count": 17,
   "metadata": {},
   "outputs": [],
   "source": [
    "import os\n",
    "\n",
    "class OwnDataset(Dataset):\n",
    "    def __init__(self):\n",
    "        self.init_data(template_path=\"../templateData/\", \n",
    "                       source_path=\"../sourceData/\")\n",
    "        self.n_samples = len(self.template)\n",
    "\n",
    "    def init_data(self, template_path, source_path):\n",
    "        self.template = []\n",
    "        self.source = []\n",
    "        for filename in os.listdir(template_path):\n",
    "            if filename.endswith(\".ply\"):\n",
    "                pcd = self.read_as_tensor(template_path+filename)\n",
    "\n",
    "                self.template.append(pcd)\n",
    "        for filename in os.listdir(source_path):\n",
    "            if filename.endswith(\".ply\"):\n",
    "                pcd = self.read_as_tensor(source_path+filename)\n",
    "                self.source.append(pcd)\n",
    "\n",
    "    def __getitem__(self, index):\n",
    "        return self.template[index], self.source[index]\n",
    "    \n",
    "    def __len__(self):\n",
    "        return self.n_samples\n",
    "\n",
    "    def as_tensor(self, data):\n",
    "        return torch.tensor(data, dtype=torch.float32)\n",
    "\n",
    "    def read_as_tensor(self, path):\n",
    "        pcd = np.asarray(o3d.io.read_point_cloud(path).points)\n",
    "        downsample = np.random.randint(0, len(pcd), 1024)\n",
    "        pcd = pcd[downsample]\n",
    "        return self.as_tensor(pcd)\n",
    "    \n"
   ]
  },
  {
   "cell_type": "code",
   "execution_count": 27,
   "metadata": {},
   "outputs": [],
   "source": [
    "dataset = OwnDataset()\n",
    "dataLoader = DataLoader(dataset, batch_size=1, shuffle=False)"
   ]
  },
  {
   "cell_type": "code",
   "execution_count": 28,
   "metadata": {},
   "outputs": [
    {
     "name": "stdout",
     "output_type": "stream",
     "text": [
      "torch.Size([1, 1024, 3]) torch.Size([1, 1024, 3])\n"
     ]
    }
   ],
   "source": [
    "template, source = next(iter(dataLoader))\n",
    "print(template.shape, source.shape)"
   ]
  },
  {
   "cell_type": "code",
   "execution_count": 29,
   "metadata": {},
   "outputs": [
    {
     "data": {
      "text/plain": [
       "(1024, 3)"
      ]
     },
     "execution_count": 29,
     "metadata": {},
     "output_type": "execute_result"
    }
   ],
   "source": [
    "output = model(template, source)\n",
    "source_transform = output['transformed_source'].detach().cpu().numpy()[0]\n",
    "source_transform.shape"
   ]
  },
  {
   "cell_type": "code",
   "execution_count": 30,
   "metadata": {},
   "outputs": [],
   "source": [
    "display_open3d(template.detach().cpu().numpy()[0], source.detach().cpu().numpy()[0], source_transform)"
   ]
  },
  {
   "cell_type": "code",
   "execution_count": 36,
   "metadata": {},
   "outputs": [],
   "source": [
    "import open3d as o3d\n",
    "template = o3d.io.read_point_cloud(\"../templateData/bottle_left.ply\")\n",
    "\n",
    "transformed_source_ = o3d.geometry.PointCloud()\n",
    "transformed_source_.points = o3d.utility.Vector3dVector(source_transform)\n",
    "transformed_source_.paint_uniform_color([0, 0, 1])\n",
    "\n",
    "o3d.visualization.draw_geometries([transformed_source_, template])\n"
   ]
  }
 ],
 "metadata": {
  "kernelspec": {
   "display_name": "l3denv",
   "language": "python",
   "name": "python3"
  },
  "language_info": {
   "codemirror_mode": {
    "name": "ipython",
    "version": 3
   },
   "file_extension": ".py",
   "mimetype": "text/x-python",
   "name": "python",
   "nbconvert_exporter": "python",
   "pygments_lexer": "ipython3",
   "version": "3.8.19"
  }
 },
 "nbformat": 4,
 "nbformat_minor": 2
}
